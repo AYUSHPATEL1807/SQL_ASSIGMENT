{
 "cells": [
  {
   "cell_type": "markdown",
   "id": "c8c4c647",
   "metadata": {},
   "source": [
    "#### 11.Write a Python program to unzip a list of tuples into individual lists."
   ]
  },
  {
   "cell_type": "code",
   "execution_count": 1,
   "id": "c7830f91",
   "metadata": {},
   "outputs": [
    {
     "name": "stdout",
     "output_type": "stream",
     "text": [
      "[(1, 3, 8), (2, 4, 9)]\n"
     ]
    }
   ],
   "source": [
    "l = [(1,2), (3,4), (8,9)]\n",
    "print(list(zip(*l)))"
   ]
  },
  {
   "cell_type": "markdown",
   "id": "dcb36e4f",
   "metadata": {},
   "source": [
    "#### 12.Write a Python program to convert a list of tuples into a dictionary"
   ]
  },
  {
   "cell_type": "code",
   "execution_count": 2,
   "id": "0c43dfab",
   "metadata": {},
   "outputs": [
    {
     "name": "stdout",
     "output_type": "stream",
     "text": [
      "{'akash': [10], 'gaurav': [12], 'anand': [14], 'suraj': [20], 'akhil': [25], 'ashish': [30]}\n"
     ]
    }
   ],
   "source": [
    "def Convert(tup, di):\n",
    "    for a, b in tup:\n",
    "        di.setdefault(a, []).append(b)\n",
    "    return di\n",
    "\n",
    "tups = [(\"akash\", 10), (\"gaurav\", 12), (\"anand\", 14),\n",
    "    (\"suraj\", 20), (\"akhil\", 25), (\"ashish\", 30)]\n",
    "dictionary = {}\n",
    "print (Convert(tups, dictionary))"
   ]
  },
  {
   "cell_type": "markdown",
   "id": "ed838eae",
   "metadata": {},
   "source": [
    "#### 13.Write a Python program to sort a dictionary (ascending /descending) by value.\n"
   ]
  },
  {
   "cell_type": "code",
   "execution_count": 4,
   "id": "071e4028",
   "metadata": {},
   "outputs": [
    {
     "name": "stdout",
     "output_type": "stream",
     "text": [
      "Original dictionary :  {1: 2, 3: 4, 4: 3, 2: 1, 0: 0}\n",
      "Dictionary in ascending order by value :  [(0, 0), (2, 1), (1, 2), (4, 3), (3, 4)]\n",
      "Dictionary in descending order by value :  {3: 4, 4: 3, 1: 2, 2: 1, 0: 0}\n"
     ]
    }
   ],
   "source": [
    "import operator\n",
    "d = {1: 2, 3: 4, 4: 3, 2: 1, 0: 0}\n",
    "print('Original dictionary : ',d)\n",
    "sorted_d = sorted(d.items(), key=operator.itemgetter(1))\n",
    "print('Dictionary in ascending order by value : ',sorted_d)\n",
    "sorted_d = dict( sorted(d.items(), key=operator.itemgetter(1),reverse=True))\n",
    "print('Dictionary in descending order by value : ',sorted_d)"
   ]
  },
  {
   "cell_type": "markdown",
   "id": "b0f55f5f",
   "metadata": {},
   "source": [
    "#### 14.Write a Python program to find the highest 3 values in a dictionary."
   ]
  },
  {
   "cell_type": "code",
   "execution_count": 5,
   "id": "4c36fc70",
   "metadata": {},
   "outputs": [
    {
     "name": "stdout",
     "output_type": "stream",
     "text": [
      "Initial Dictionary:\n",
      "{'A': 67, 'B': 23, 'C': 45, 'D': 56, 'E': 12, 'F': 69} \n",
      "\n",
      "Dictionary with 3 highest values:\n",
      "Keys: Values\n",
      "F  : 69  \n",
      "A  : 67  \n",
      "D  : 56  \n"
     ]
    }
   ],
   "source": [
    "from collections import Counter\n",
    "\n",
    "my_dict = {'A': 67, 'B': 23, 'C': 45,\n",
    "        'D': 56, 'E': 12, 'F': 69}\n",
    "\n",
    "k = Counter(my_dict)\n",
    "\n",
    "high = k.most_common(3)\n",
    "\n",
    "print(\"Initial Dictionary:\")\n",
    "print(my_dict, \"\\n\")\n",
    "\n",
    "\n",
    "print(\"Dictionary with 3 highest values:\")\n",
    "print(\"Keys: Values\")\n",
    "\n",
    "for i in high:\n",
    "    print(i[0],\" :\",i[1],\" \")\n"
   ]
  },
  {
   "cell_type": "markdown",
   "id": "46882965",
   "metadata": {},
   "source": [
    "#### 15.Given a number n, write a python program to make and print the list of Fibonacci series up to n. Input : n=7 Hint : first 7 numbers in the series Expected output : First few Fibonacci numbers are 0, 1,  #### 1, 2, 3, 5, 8, 13"
   ]
  },
  {
   "cell_type": "code",
   "execution_count": 7,
   "id": "f5e38bd1",
   "metadata": {},
   "outputs": [
    {
     "name": "stdout",
     "output_type": "stream",
     "text": [
      "0 1 1 2 3 5 8 "
     ]
    }
   ],
   "source": [
    "def fibonacci_numbers(num):\n",
    "    if num == 0:\n",
    "        return 0\n",
    "    elif num == 1:\n",
    "        return 1\n",
    "    else:\n",
    "        return fibonacci_numbers(num-2)+fibonacci_numbers(num-1)\n",
    "\n",
    "\n",
    "n = 7\n",
    "for i in range(0, n):\n",
    "    print(fibonacci_numbers(i), end=\" \")"
   ]
  },
  {
   "cell_type": "markdown",
   "id": "353b8486",
   "metadata": {},
   "source": [
    "#### 16.Counting the frequencies in a list using a dictionary in Python. Input : [1, 1, 1, 5, 5, 3, 1, 3, 3, 1,4, 4, 4, 2, 2, 2, 2] Expected output : 1 : 5 , 2 : 4 , 3 : 3 , 4 : 3 , 5 : 2"
   ]
  },
  {
   "cell_type": "code",
   "execution_count": 8,
   "id": "b33a92ba",
   "metadata": {},
   "outputs": [
    {
     "name": "stdout",
     "output_type": "stream",
     "text": [
      " 1 :  5\n",
      " 5 :  2\n",
      " 3 :  3\n",
      " 4 :  3\n",
      " 2 :  4\n"
     ]
    }
   ],
   "source": [
    "# Python program to count the frequency of\n",
    "# elements in a list using a dictionary\n",
    "\n",
    "def CountFrequency(my_list):\n",
    "\n",
    "    freq = {}\n",
    "    for item in my_list:\n",
    "        if (item in freq):\n",
    "            freq[item] += 1\n",
    "        else:\n",
    "            freq[item] = 1\n",
    "\n",
    "    for key, value in freq.items():\n",
    "        print (\"% d : % d\"%(key, value))\n",
    "\n",
    "if __name__ == \"__main__\":\n",
    "    my_list =[1, 1, 1, 5, 5, 3, 1, 3, 3, 1, 4, 4, 4, 2, 2, 2, 2]\n",
    "\n",
    "    CountFrequency(my_list)"
   ]
  },
  {
   "cell_type": "markdown",
   "id": "080d116b",
   "metadata": {},
   "source": [
    "#### 17.Write a python program using function to find the sum of odd series and even series Odd series: 12/ 1! + 32/ 3! + 52/ 5!+……n  Even series: 22/ 2! + 42/ 4! + 62/ 6!+……n"
   ]
  },
  {
   "cell_type": "code",
   "execution_count": null,
   "id": "c0605988",
   "metadata": {},
   "outputs": [],
   "source": []
  },
  {
   "cell_type": "markdown",
   "id": "f334fd3f",
   "metadata": {},
   "source": [
    "####  18.Python Program to Find Factorial of Number Using Recursion"
   ]
  },
  {
   "cell_type": "code",
   "execution_count": 9,
   "id": "1d2d51c2",
   "metadata": {},
   "outputs": [
    {
     "name": "stdout",
     "output_type": "stream",
     "text": [
      "The factorial of 7 is 5040\n"
     ]
    }
   ],
   "source": [
    "def recur_factorial(n):\n",
    "   if n == 1:\n",
    "       return n\n",
    "   else:\n",
    "       return n*recur_factorial(n-1)\n",
    "\n",
    "num = 7\n",
    "\n",
    "if num < 0:\n",
    "   print(\"Sorry, factorial does not exist for negative numbers\")\n",
    "elif num == 0:\n",
    "   print(\"The factorial of 0 is 1\")\n",
    "else:\n",
    "   print(\"The factorial of\", num, \"is\", recur_factorial(num))\n"
   ]
  },
  {
   "cell_type": "markdown",
   "id": "bc939174",
   "metadata": {},
   "source": [
    "#### 19.Write a Python function that takes a list and returns a new list with unique elements of the first list."
   ]
  },
  {
   "cell_type": "code",
   "execution_count": 10,
   "id": "ccce85d8",
   "metadata": {},
   "outputs": [
    {
     "name": "stdout",
     "output_type": "stream",
     "text": [
      "[1, 2, 3, 4, 5]\n"
     ]
    }
   ],
   "source": [
    "def unique_list(l):\n",
    "  x = []\n",
    "  for a in l:\n",
    "    if a not in x:\n",
    "      x.append(a)\n",
    "  return x\n",
    "\n",
    "print(unique_list([1,2,3,3,3,3,4,5])) "
   ]
  },
  {
   "cell_type": "markdown",
   "id": "18a00447",
   "metadata": {},
   "source": [
    "#### 20.Mini Project Password Generator"
   ]
  },
  {
   "cell_type": "code",
   "execution_count": 14,
   "id": "9bd85693",
   "metadata": {},
   "outputs": [
    {
     "name": "stdout",
     "output_type": "stream",
     "text": [
      "i#/ZbB8@Z9wo\n"
     ]
    }
   ],
   "source": [
    "import random\n",
    "import array\n",
    "\n",
    "MAX_LEN = 12\n",
    "\n",
    "DIGITS = ['0', '1', '2', '3', '4', '5', '6', '7', '8', '9']\n",
    "LOCASE_CHARACTERS = ['a', 'b', 'c', 'd', 'e', 'f', 'g', 'h','i', 'j', 'k', 'm', 'n', 'o', 'p', 'q','r', 's', 't', 'u', 'v', 'w', 'x', 'y','z']\n",
    "\n",
    "UPCASE_CHARACTERS = ['A', 'B', 'C', 'D', 'E', 'F', 'G', 'H','I', 'J', 'K', 'M', 'N', 'O', 'P', 'Q',\n",
    "                    'R', 'S', 'T', 'U', 'V', 'W', 'X', 'Y','Z']\n",
    "\n",
    "SYMBOLS = ['@', '#', '$', '%', '=', ':', '?', '.', '/', '|', '~', '>',\n",
    "        '*', '(', ')', '<']\n",
    "\n",
    "COMBINED_LIST = DIGITS + UPCASE_CHARACTERS + LOCASE_CHARACTERS + SYMBOLS\n",
    "\n",
    "rand_digit = random.choice(DIGITS)\n",
    "rand_upper = random.choice(UPCASE_CHARACTERS)\n",
    "rand_lower = random.choice(LOCASE_CHARACTERS)\n",
    "rand_symbol = random.choice(SYMBOLS)\n",
    "\n",
    "temp_pass = rand_digit + rand_upper + rand_lower + rand_symbol\n",
    "\n",
    "for x in range(MAX_LEN - 4):\n",
    "    temp_pass = temp_pass + random.choice(COMBINED_LIST)\n",
    "    temp_pass_list = array.array('u', temp_pass)\n",
    "    random.shuffle(temp_pass_list)\n",
    "\n",
    "password = \"\"\n",
    "for x in temp_pass_list:\n",
    "    password = password + x\n",
    "print(password)"
   ]
  }
 ],
 "metadata": {
  "kernelspec": {
   "display_name": "Python 3 (ipykernel)",
   "language": "python",
   "name": "python3"
  },
  "language_info": {
   "codemirror_mode": {
    "name": "ipython",
    "version": 3
   },
   "file_extension": ".py",
   "mimetype": "text/x-python",
   "name": "python",
   "nbconvert_exporter": "python",
   "pygments_lexer": "ipython3",
   "version": "3.9.13"
  }
 },
 "nbformat": 4,
 "nbformat_minor": 5
}
